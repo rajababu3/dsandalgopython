{
 "cells": [
  {
   "cell_type": "markdown",
   "metadata": {},
   "source": [
    "## Recursion\n",
    "\n",
    "> Terminates when a base case is reached <br>\n",
    "> Each recursive call requires extra space on the stack frame (memory)<br>\n",
    "> If we get infinite recursiveion, the program may run out of memory and gives stack overflow<br>\n",
    "> Solutions of some problems are easier to formulate recursively<br>\n",
    "\n",
    "## Iteration\n",
    "\n",
    "> Terminates when a condition is proven to be false<br>\n",
    "> Each iteration does not require extra space<br>\n",
    "> Loops forever<br>\n",
    "> It's solution may not always be obivious as a recursive solution<br>\n",
    "\n",
    "## Notes on Recursion\n",
    "\n",
    "> Recursive algo must have two types of cases, recursive case and base case <br>\n",
    "> Every recursive function case must terminate at base case <br>\n",
    "> A Recursive algo can be implemented without recursive function call using stack, but it's usually\n",
    "  more trouble than its worth. That means any problem that can be solved recursively can also be solved iteratively. <br>\n",
    "> For some problems there is no obvious iterative algo <br>\n",
    "> Some problems are best suited for recursive while others are not <br>\n",
    "\n",
    "## Example algo of Recursion\n",
    "\n",
    "> Fibonacci Series, Factorial Finding <br>\n",
    "> Merge Sort, Quick Sort <br>\n",
    "> Binary Search <br>\n",
    "> Tree Traversal and many tree problem <br>\n",
    "> Graph Traversal: DFS and BFS <br>\n",
    "> Dynamic Programming Examples <br>\n",
    "> Towers of Hanoi <br>\n",
    "> Backtracking Algo <br>"
   ]
  },
  {
   "cell_type": "code",
   "execution_count": null,
   "metadata": {
    "collapsed": true
   },
   "outputs": [],
   "source": []
  }
 ],
 "metadata": {
  "kernelspec": {
   "display_name": "Python 3",
   "language": "python",
   "name": "python3"
  },
  "language_info": {
   "codemirror_mode": {
    "name": "ipython",
    "version": 3
   },
   "file_extension": ".py",
   "mimetype": "text/x-python",
   "name": "python",
   "nbconvert_exporter": "python",
   "pygments_lexer": "ipython3",
   "version": "3.6.0"
  }
 },
 "nbformat": 4,
 "nbformat_minor": 2
}
