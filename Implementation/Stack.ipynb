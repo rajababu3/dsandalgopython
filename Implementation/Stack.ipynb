{
 "cells": [
  {
   "cell_type": "code",
   "execution_count": 16,
   "metadata": {
    "collapsed": true
   },
   "outputs": [],
   "source": [
    "class Stack():\n",
    "    def __init__(self):\n",
    "        self.items = []\n",
    "    def isEmpty(self):\n",
    "        return self.items == []\n",
    "    def push(self,data):\n",
    "        self.items.append(data)\n",
    "    def pop(self):\n",
    "        return self.items.pop()\n",
    "    def size(self):\n",
    "        return len(self.items)"
   ]
  },
  {
   "cell_type": "code",
   "execution_count": 19,
   "metadata": {},
   "outputs": [],
   "source": [
    "s = Stack()"
   ]
  },
  {
   "cell_type": "code",
   "execution_count": 20,
   "metadata": {},
   "outputs": [
    {
     "data": {
      "text/plain": [
       "<__main__.Stack at 0x1119eb240>"
      ]
     },
     "execution_count": 20,
     "metadata": {},
     "output_type": "execute_result"
    }
   ],
   "source": [
    "s"
   ]
  },
  {
   "cell_type": "code",
   "execution_count": 21,
   "metadata": {},
   "outputs": [
    {
     "data": {
      "text/plain": [
       "True"
      ]
     },
     "execution_count": 21,
     "metadata": {},
     "output_type": "execute_result"
    }
   ],
   "source": [
    "s.isEmpty()"
   ]
  },
  {
   "cell_type": "code",
   "execution_count": 22,
   "metadata": {
    "collapsed": true
   },
   "outputs": [],
   "source": [
    "s.push(5)"
   ]
  },
  {
   "cell_type": "code",
   "execution_count": 23,
   "metadata": {
    "collapsed": true
   },
   "outputs": [],
   "source": [
    "s.push(10)"
   ]
  },
  {
   "cell_type": "code",
   "execution_count": 24,
   "metadata": {
    "collapsed": true
   },
   "outputs": [],
   "source": [
    "s.push(11)"
   ]
  },
  {
   "cell_type": "code",
   "execution_count": 25,
   "metadata": {
    "collapsed": true
   },
   "outputs": [],
   "source": [
    "s.push(12)"
   ]
  },
  {
   "cell_type": "code",
   "execution_count": 26,
   "metadata": {
    "collapsed": true
   },
   "outputs": [],
   "source": [
    "s.push(90)"
   ]
  },
  {
   "cell_type": "code",
   "execution_count": 27,
   "metadata": {},
   "outputs": [
    {
     "data": {
      "text/plain": [
       "5"
      ]
     },
     "execution_count": 27,
     "metadata": {},
     "output_type": "execute_result"
    }
   ],
   "source": [
    "s.size()"
   ]
  },
  {
   "cell_type": "code",
   "execution_count": 28,
   "metadata": {},
   "outputs": [
    {
     "data": {
      "text/plain": [
       "90"
      ]
     },
     "execution_count": 28,
     "metadata": {},
     "output_type": "execute_result"
    }
   ],
   "source": [
    "s.pop()"
   ]
  },
  {
   "cell_type": "code",
   "execution_count": 31,
   "metadata": {},
   "outputs": [
    {
     "name": "stdout",
     "output_type": "stream",
     "text": [
      "6\n",
      "1\n",
      "No Food\n",
      "2 5\n",
      "2 7\n",
      "2 9\n",
      "1\n",
      "9\n",
      "1\n",
      "7\n"
     ]
    }
   ],
   "source": [
    "#Hakcerearth no food problem\n",
    "a = Stack()\n",
    "x = int(input())\n",
    "while(x > 0):\n",
    "    n = list(map(int,input().split()))\n",
    "    if n[0]==2:\n",
    "        a.push(n[1])\n",
    "    else:\n",
    "        if n[0]==1:\n",
    "            if a.isEmpty():\n",
    "                print(\"No Food\")\n",
    "            else:\n",
    "                print(a.pop())\n",
    "    x = x -1\n",
    "        \n"
   ]
  },
  {
   "cell_type": "code",
   "execution_count": 33,
   "metadata": {},
   "outputs": [
    {
     "name": "stdout",
     "output_type": "stream",
     "text": [
      "P 40\n",
      "['P', '40']\n"
     ]
    }
   ],
   "source": [
    "x = list(map(str,input().split()))\n",
    "print (x)"
   ]
  },
  {
   "cell_type": "code",
   "execution_count": 41,
   "metadata": {},
   "outputs": [
    {
     "name": "stdout",
     "output_type": "stream",
     "text": [
      "1\n",
      "10 23\n",
      "P 86\n",
      "P 63\n",
      "P 60\n",
      "B\n",
      "P 47\n",
      "B\n",
      "P 99\n",
      "P 9\n",
      "B\n",
      "B\n",
      "63\n"
     ]
    }
   ],
   "source": [
    "b = Stack()\n",
    "n = int(input())\n",
    "while(n>0):\n",
    "    x = list(map(int,input().split()))\n",
    "    b.push(x[1])\n",
    "    while (x[0] > 0):\n",
    "        y = list(map(str, input().split()))\n",
    "        if y[0] == 'P':\n",
    "            b.push(y[1])\n",
    "        elif y[0]=='B':\n",
    "            b.pop()\n",
    "            ans = b.pop()\n",
    "            b.push(ans)\n",
    "        x[0] = x[0] - 1\n",
    "    n = n-1\n",
    "print(ans)"
   ]
  },
  {
   "cell_type": "code",
   "execution_count": 44,
   "metadata": {},
   "outputs": [],
   "source": [
    "# 1\n",
    "# #10 23\n",
    "# P 86\n",
    "# P 63\n",
    "# P 60\n",
    "# B\n",
    "# P 47\n",
    "# B\n",
    "# P 99\n",
    "# P 9\n",
    "# B\n",
    "# B\n",
    "# 99"
   ]
  },
  {
   "cell_type": "code",
   "execution_count": 61,
   "metadata": {},
   "outputs": [
    {
     "name": "stdout",
     "output_type": "stream",
     "text": [
      "A + B\n",
      "+A\n"
     ]
    }
   ],
   "source": [
    "b = Stack()\n",
    "n = list(map(str,input().split()))\n",
    "for elem in n:\n",
    "    if elem in \"ABCDEFGHIJKLMNOPQRSTUVWXYZ\" or elem in \"0123456789\":\n",
    "        b.push(elem)\n",
    "    elif elem in \"+ - * /\" or \"[ { ( ) } ]\":\n",
    "        print(elem, end='')\n",
    "        print(b.pop())\n",
    "    else:\n",
    "        print(b.pop())"
   ]
  },
  {
   "cell_type": "code",
   "execution_count": 55,
   "metadata": {},
   "outputs": [
    {
     "name": "stdout",
     "output_type": "stream",
     "text": [
      "A + B\n",
      "['A', '+', 'B']\n"
     ]
    }
   ],
   "source": [
    "n = list(map(str,input().split()))\n",
    "print(n)"
   ]
  },
  {
   "cell_type": "code",
   "execution_count": null,
   "metadata": {
    "collapsed": true
   },
   "outputs": [],
   "source": []
  }
 ],
 "metadata": {
  "kernelspec": {
   "display_name": "Python 3",
   "language": "python",
   "name": "python3"
  },
  "language_info": {
   "codemirror_mode": {
    "name": "ipython",
    "version": 3
   },
   "file_extension": ".py",
   "mimetype": "text/x-python",
   "name": "python",
   "nbconvert_exporter": "python",
   "pygments_lexer": "ipython3",
   "version": "3.6.0"
  }
 },
 "nbformat": 4,
 "nbformat_minor": 2
}
