{
 "cells": [
  {
   "cell_type": "code",
   "execution_count": 5,
   "metadata": {
    "collapsed": false
   },
   "outputs": [
    {
     "name": "stdout",
     "output_type": "stream",
     "text": [
      "1 1 1 0 0 0\n",
      "0 1 0 0 0 0\n",
      "1 1 1 0 0 0\n",
      "0 0 2 4 4 0\n",
      "0 0 0 2 0 0\n",
      "0 0 1 2 4 0\n",
      "[[1, 1, 1, 0, 0, 0], [0, 1, 0, 0, 0, 0], [1, 1, 1, 0, 0, 0], [0, 0, 2, 4, 4, 0], [0, 0, 0, 2, 0, 0], [0, 0, 1, 2, 4, 0]]\n"
     ]
    }
   ],
   "source": [
    "arr = []\n",
    "for arr_i in xrange(6):\n",
    "    arr_temp = map(int,raw_input().strip().split(' '))\n",
    "    arr.append(arr_temp)\n",
    "print arr\n",
    "    "
   ]
  },
  {
   "cell_type": "code",
   "execution_count": 29,
   "metadata": {
    "collapsed": false
   },
   "outputs": [
    {
     "name": "stdout",
     "output_type": "stream",
     "text": [
      "fcrxzwscanmligyxyvym\n",
      "jxwtrhvujlmrpdoqbisbwhmgpmeoke\n",
      "{'a': 1, 'c': 2, 'b': -2, 'e': -2, 'd': -1, 'g': 0, 'f': 1, 'i': 0, 'h': -2, 'k': -1, 'j': -2, 'm': -1, 'l': 0, 'o': -2, 'n': 1, 'q': -1, 'p': -2, 's': 0, 'r': -1, 'u': -1, 't': -1, 'w': -1, 'v': 0, 'y': 3, 'x': 1, 'z': 1}\n",
      "30\n"
     ]
    }
   ],
   "source": [
    "def number_needed(a, b):\n",
    "    count = dict()\n",
    "    for l in a:\n",
    "        if l in count:\n",
    "            count[l] +=1\n",
    "        else:\n",
    "            count[l] = 1         \n",
    "    for l in b:\n",
    "        if l in count:\n",
    "            count[l] -= 1\n",
    "        else:\n",
    "            count[l] = -1\n",
    "    print count\n",
    "    c = 0\n",
    "    for k in count.keys():\n",
    "        c += abs(count[k])\n",
    "    return c\n",
    "            \n",
    "a = raw_input().strip()\n",
    "b = raw_input().strip()\n",
    "\n",
    "print number_needed(a, b)"
   ]
  },
  {
   "cell_type": "code",
   "execution_count": null,
   "metadata": {
    "collapsed": true
   },
   "outputs": [],
   "source": [
    "fcrxzwscanmligyxyvym\n",
    "jxwtrhvujlmrpdoqbisbwhmgpmeoke"
   ]
  },
  {
   "cell_type": "code",
   "execution_count": 27,
   "metadata": {
    "collapsed": false
   },
   "outputs": [
    {
     "ename": "KeyboardInterrupt",
     "evalue": "",
     "output_type": "error",
     "traceback": [
      "\u001b[0;31m---------------------------------------------------------------------------\u001b[0m",
      "\u001b[0;31mKeyboardInterrupt\u001b[0m                         Traceback (most recent call last)",
      "\u001b[0;32m<ipython-input-27-e38061389303>\u001b[0m in \u001b[0;36m<module>\u001b[0;34m()\u001b[0m\n\u001b[1;32m     22\u001b[0m     \u001b[0;32mreturn\u001b[0m \u001b[0mc\u001b[0m\u001b[0;34m\u001b[0m\u001b[0m\n\u001b[1;32m     23\u001b[0m \u001b[0;34m\u001b[0m\u001b[0m\n\u001b[0;32m---> 24\u001b[0;31m \u001b[0ma\u001b[0m \u001b[0;34m=\u001b[0m \u001b[0mraw_input\u001b[0m\u001b[0;34m(\u001b[0m\u001b[0;34m)\u001b[0m\u001b[0;34m.\u001b[0m\u001b[0mstrip\u001b[0m\u001b[0;34m(\u001b[0m\u001b[0;34m)\u001b[0m\u001b[0;34m\u001b[0m\u001b[0m\n\u001b[0m\u001b[1;32m     25\u001b[0m \u001b[0mb\u001b[0m \u001b[0;34m=\u001b[0m \u001b[0mraw_input\u001b[0m\u001b[0;34m(\u001b[0m\u001b[0;34m)\u001b[0m\u001b[0;34m.\u001b[0m\u001b[0mstrip\u001b[0m\u001b[0;34m(\u001b[0m\u001b[0;34m)\u001b[0m\u001b[0;34m\u001b[0m\u001b[0m\n\u001b[1;32m     26\u001b[0m \u001b[0;34m\u001b[0m\u001b[0m\n",
      "\u001b[0;32m/Users/rajababu/Library/Enthought/Canopy_64bit/User/lib/python2.7/site-packages/ipykernel/kernelbase.pyc\u001b[0m in \u001b[0;36mraw_input\u001b[0;34m(self, prompt)\u001b[0m\n\u001b[1;32m    687\u001b[0m             \u001b[0mself\u001b[0m\u001b[0;34m.\u001b[0m\u001b[0m_parent_ident\u001b[0m\u001b[0;34m,\u001b[0m\u001b[0;34m\u001b[0m\u001b[0m\n\u001b[1;32m    688\u001b[0m             \u001b[0mself\u001b[0m\u001b[0;34m.\u001b[0m\u001b[0m_parent_header\u001b[0m\u001b[0;34m,\u001b[0m\u001b[0;34m\u001b[0m\u001b[0m\n\u001b[0;32m--> 689\u001b[0;31m             \u001b[0mpassword\u001b[0m\u001b[0;34m=\u001b[0m\u001b[0mFalse\u001b[0m\u001b[0;34m,\u001b[0m\u001b[0;34m\u001b[0m\u001b[0m\n\u001b[0m\u001b[1;32m    690\u001b[0m         )\n\u001b[1;32m    691\u001b[0m \u001b[0;34m\u001b[0m\u001b[0m\n",
      "\u001b[0;32m/Users/rajababu/Library/Enthought/Canopy_64bit/User/lib/python2.7/site-packages/ipykernel/kernelbase.pyc\u001b[0m in \u001b[0;36m_input_request\u001b[0;34m(self, prompt, ident, parent, password)\u001b[0m\n\u001b[1;32m    717\u001b[0m             \u001b[0;32mexcept\u001b[0m \u001b[0mKeyboardInterrupt\u001b[0m\u001b[0;34m:\u001b[0m\u001b[0;34m\u001b[0m\u001b[0m\n\u001b[1;32m    718\u001b[0m                 \u001b[0;31m# re-raise KeyboardInterrupt, to truncate traceback\u001b[0m\u001b[0;34m\u001b[0m\u001b[0;34m\u001b[0m\u001b[0m\n\u001b[0;32m--> 719\u001b[0;31m                 \u001b[0;32mraise\u001b[0m \u001b[0mKeyboardInterrupt\u001b[0m\u001b[0;34m\u001b[0m\u001b[0m\n\u001b[0m\u001b[1;32m    720\u001b[0m             \u001b[0;32melse\u001b[0m\u001b[0;34m:\u001b[0m\u001b[0;34m\u001b[0m\u001b[0m\n\u001b[1;32m    721\u001b[0m                 \u001b[0;32mbreak\u001b[0m\u001b[0;34m\u001b[0m\u001b[0m\n",
      "\u001b[0;31mKeyboardInterrupt\u001b[0m: "
     ]
    }
   ],
   "source": [
    "def number_needed(a, b):\n",
    "    count = dict()\n",
    "    for l in a:\n",
    "        if l in count:\n",
    "            count[l] +=1\n",
    "        else:\n",
    "            count[l] = 1       \n",
    "    for l in b:\n",
    "        if l in count:\n",
    "            count[l] -= 1\n",
    "        else:\n",
    "            count[l] = 1\n",
    "    print count\n",
    "    c = 0\n",
    "    for k in count:\n",
    "        if count[k] != 0:\n",
    "            c += 1\n",
    "    return c\n",
    "            \n",
    "a = raw_input().strip()\n",
    "b = raw_input().strip()\n",
    "\n",
    "print number_needed(a, b)"
   ]
  },
  {
   "cell_type": "code",
   "execution_count": 26,
   "metadata": {
    "collapsed": false
   },
   "outputs": [
    {
     "name": "stdout",
     "output_type": "stream",
     "text": [
      "fcrxzwscanmligyxyvym\n",
      "jxwtrhvujlmrpdoqbisbwhmgpmeoke\n",
      "30\n"
     ]
    }
   ],
   "source": [
    "def number_needed(str1, str2):\n",
    "    \n",
    "    dict_chars = dict()\n",
    "    \n",
    "    for char in str1:\n",
    "        if char in dict_chars:\n",
    "            dict_chars[char] += 1\n",
    "        else:\n",
    "            dict_chars[char] = 1\n",
    "    for char in str2:\n",
    "        if char in dict_chars:\n",
    "            dict_chars[char] -= 1\n",
    "        else:\n",
    "            dict_chars[char] = -1\n",
    "    \n",
    "    sum_diff = 0\n",
    "    \n",
    "    for char in dict_chars.keys():\n",
    "        sum_diff += abs(dict_chars[char])\n",
    "        \n",
    "    return sum_diff\n",
    "    \n",
    "a = raw_input().strip()\n",
    "b = raw_input().strip()\n",
    "\n",
    "print(number_needed(a, b))"
   ]
  },
  {
   "cell_type": "code",
   "execution_count": null,
   "metadata": {
    "collapsed": true
   },
   "outputs": [],
   "source": []
  }
 ],
 "metadata": {
  "kernelspec": {
   "display_name": "Python 2",
   "language": "python",
   "name": "python2"
  },
  "language_info": {
   "codemirror_mode": {
    "name": "ipython",
    "version": 2
   },
   "file_extension": ".py",
   "mimetype": "text/x-python",
   "name": "python",
   "nbconvert_exporter": "python",
   "pygments_lexer": "ipython2",
   "version": "2.7.11"
  }
 },
 "nbformat": 4,
 "nbformat_minor": 0
}
