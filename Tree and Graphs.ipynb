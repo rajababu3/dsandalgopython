{
 "cells": [
  {
   "cell_type": "code",
   "execution_count": 1,
   "metadata": {
    "collapsed": true
   },
   "outputs": [],
   "source": [
    "class Node:\n",
    "    def __init__(self,data):\n",
    "        self.data = data\n",
    "        self.right_child = None\n",
    "        self.left_child = None"
   ]
  },
  {
   "cell_type": "code",
   "execution_count": 3,
   "metadata": {},
   "outputs": [],
   "source": [
    "n1 = Node(\"root node\")  \n",
    "n2 = Node(\"left child node\") \n",
    "n3 = Node(\"right child node\") \n",
    "n4 = Node(\"left grandchild node\")"
   ]
  },
  {
   "cell_type": "code",
   "execution_count": 4,
   "metadata": {
    "collapsed": true
   },
   "outputs": [],
   "source": [
    "n1.left_child = n2\n",
    "n1.right_child = n3\n",
    "n2.left_child = n4"
   ]
  },
  {
   "cell_type": "code",
   "execution_count": 6,
   "metadata": {},
   "outputs": [
    {
     "name": "stdout",
     "output_type": "stream",
     "text": [
      "root node\n",
      "left child node\n",
      "left grandchild node\n"
     ]
    }
   ],
   "source": [
    "# Traversing Left Subtree\n",
    "current = n1\n",
    "while current:\n",
    "    print(current.data)\n",
    "    current = current.left_child"
   ]
  },
  {
   "cell_type": "code",
   "execution_count": 9,
   "metadata": {
    "collapsed": true
   },
   "outputs": [],
   "source": [
    "class BinaryTree(object):\n",
    "    \n",
    "    def __init__(self,data):\n",
    "        self.data = data\n",
    "        self.left_child = None\n",
    "        self.right_child = None\n",
    "        \n",
    "    def insert_left(self,new_node):\n",
    "        if self.left_child == None:\n",
    "            self.left_child = BinaryTree(new_node)\n",
    "        else:\n",
    "            t = BinaryTree(new_node)\n",
    "            t.left_child = self.left_child\n",
    "            self.left_child = t\n",
    "            \n",
    "    def insert_right(self,new_node):\n",
    "        if self.right_child == None:\n",
    "            self.right_child = BinaryTree(new_node)\n",
    "        else:\n",
    "            t = BinaryTree(new_node)\n",
    "            t.right_child = self.right_child\n",
    "            self.right_child = t\n",
    "    def get_right_child(self):\n",
    "        return self.right_child\n",
    "    def get_left_child(self):\n",
    "        return self.left_child\n",
    "    def set_root_val(self,obj):\n",
    "        self.data = obj\n",
    "        \n",
    "    def get_root_val(self):\n",
    "        return self.data"
   ]
  },
  {
   "cell_type": "code",
   "execution_count": 36,
   "metadata": {},
   "outputs": [],
   "source": [
    "t = BinaryTree(6)\n",
    "t.insert_left(3)\n",
    "t.insert_left(1)\n",
    "t.insert_left(2)\n",
    "t.insert_right(4)\n",
    "t.insert_right(7)\n",
    "t.insert_right(8)"
   ]
  },
  {
   "cell_type": "code",
   "execution_count": 37,
   "metadata": {
    "collapsed": true
   },
   "outputs": [],
   "source": [
    "def post_order(root):\n",
    "    if root:\n",
    "        post_order(root.get_left_child())\n",
    "        post_order(root.get_right_child())\n",
    "        print(root.get_root_val(),)\n",
    "\n"
   ]
  },
  {
   "cell_type": "code",
   "execution_count": 38,
   "metadata": {},
   "outputs": [
    {
     "name": "stdout",
     "output_type": "stream",
     "text": [
      "3\n",
      "1\n",
      "2\n",
      "4\n",
      "7\n",
      "8\n",
      "6\n"
     ]
    }
   ],
   "source": [
    "post_order(t)"
   ]
  },
  {
   "cell_type": "code",
   "execution_count": 39,
   "metadata": {},
   "outputs": [
    {
     "name": "stdout",
     "output_type": "stream",
     "text": [
      "6\n",
      "3\n",
      "1\n",
      "2\n",
      "4\n",
      "7\n",
      "8\n"
     ]
    }
   ],
   "source": [
    "def pre_order(root):\n",
    "    if root:\n",
    "        print(root.get_root_val(),)\n",
    "        post_order(root.get_left_child())\n",
    "        post_order(root.get_right_child())\n",
    "pre_order(t)"
   ]
  },
  {
   "cell_type": "code",
   "execution_count": 40,
   "metadata": {},
   "outputs": [
    {
     "name": "stdout",
     "output_type": "stream",
     "text": [
      "3\n",
      "1\n",
      "2\n",
      "6\n",
      "4\n",
      "7\n",
      "8\n"
     ]
    }
   ],
   "source": [
    "def in_order(root):\n",
    "    if root:\n",
    "        post_order(root.get_left_child())\n",
    "        print(root.get_root_val(),)\n",
    "        post_order(root.get_right_child())\n",
    "in_order(t)"
   ]
  },
  {
   "cell_type": "code",
   "execution_count": 41,
   "metadata": {},
   "outputs": [
    {
     "data": {
      "text/plain": [
       "3"
      ]
     },
     "execution_count": 41,
     "metadata": {},
     "output_type": "execute_result"
    }
   ],
   "source": [
    "def height(root):\n",
    "    if root:\n",
    "        return 1 + max(height(root.get_left_child()), height(root.get_right_child()))\n",
    "    else:\n",
    "        return -1\n",
    "height(t)"
   ]
  },
  {
   "cell_type": "code",
   "execution_count": 48,
   "metadata": {
    "collapsed": true
   },
   "outputs": [],
   "source": [
    "def top_view(root):\n",
    "    topView(root,0)\n",
    "def topView(root,count):\n",
    "    if root:\n",
    "        if count <=0:\n",
    "            topView(root.get_left_child(), count-1)\n",
    "        print(root.get_root_val(), sep=\" \")\n",
    "        if count>=0:\n",
    "            topView(root.get_right_child(),count+1)"
   ]
  },
  {
   "cell_type": "code",
   "execution_count": 49,
   "metadata": {},
   "outputs": [
    {
     "name": "stdout",
     "output_type": "stream",
     "text": [
      "3\n",
      "1\n",
      "2\n",
      "6\n",
      "8\n",
      "7\n",
      "4\n"
     ]
    }
   ],
   "source": [
    "top_view(t)"
   ]
  },
  {
   "cell_type": "markdown",
   "metadata": {},
   "source": [
    "## Binary Search Tree\n",
    "\n",
    "<ul>\n",
    "<li>Node class</li>\n",
    "<li>Insert method</li>\n",
    "<li>Lookup method</li>\n",
    "<li>Delete method</li>\n",
    "<li>Print method</li>\n",
    "<li>Comparing 2 trees</li>\n",
    "<li>Generator returning the tree elements one by one</li>\n",
    "</ul>"
   ]
  },
  {
   "cell_type": "code",
   "execution_count": 159,
   "metadata": {},
   "outputs": [],
   "source": [
    "class Node:\n",
    "    \"\"\"\n",
    "    Tree node: left and right child + data which can be any object\n",
    "    \"\"\"\n",
    "    \n",
    "    def __init__(self,data):\n",
    "        self.left = None\n",
    "        self.right = None\n",
    "        self.data = data\n",
    "        \n",
    "    def insert(self,data):\n",
    "        \"\"\"\n",
    "        Insert a new node with data\n",
    "        @param data node data object to insert\n",
    "        \"\"\"\n",
    "        \n",
    "        if self.data:\n",
    "            if data < self.data:\n",
    "                if self.left is None:\n",
    "                    self.left = Node(data)\n",
    "                else:\n",
    "                    self.left.insert(data)\n",
    "            elif data > self.data:\n",
    "                if self.right is None:\n",
    "                    self.right = Node(data)\n",
    "                else:\n",
    "                    self.right.insert(data)\n",
    "            else:\n",
    "                self.data = data\n",
    "                \n",
    "    def lookup(self,data,parent=None):\n",
    "        if data < self.data:\n",
    "            if self.left is None:\n",
    "                return None, None\n",
    "            return self.left.lookup(data,self)\n",
    "        elif data > self.data:\n",
    "            if self.right is None:\n",
    "                return None, None\n",
    "            return self.right.lookup(data,self)\n",
    "        else:\n",
    "            return self, parent\n",
    "            \n",
    "            \n",
    "    def children_count(self):\n",
    "        cnt = 0\n",
    "        if self.left:\n",
    "            cnt +=1\n",
    "        if self.right:\n",
    "            cnt +=1\n",
    "        return cnt \n",
    "    \n",
    "    \n",
    "    def delete(self,data):\n",
    "        \n",
    "        node,parent= self.lookup(data)\n",
    "        if node is None:\n",
    "            print(\"Element not found\")\n",
    "            return\n",
    "        elif node is not None:\n",
    "            children_count = node.children_count()\n",
    "        \n",
    "        if children_count == 0:\n",
    "            # if node has no children just remove it\n",
    "            if parent:\n",
    "                if parent.left is node:\n",
    "                    parent.left = None\n",
    "                else:\n",
    "                    parent.right = None\n",
    "            else:\n",
    "                self.data = None\n",
    "                \n",
    "        elif children_count == 1:\n",
    "            # if node has 1 child\n",
    "            # replace the node with its child\n",
    "            if node.left:\n",
    "                n = node.left\n",
    "            else:\n",
    "                n = node.right\n",
    "            if parent:\n",
    "                if parent.left is node:\n",
    "                    parent.left = n\n",
    "                else:\n",
    "                    parent.right = n\n",
    "                del node\n",
    "            else:\n",
    "                self.left = n.left\n",
    "                self.right = n.right\n",
    "                self.data = n.data\n",
    "                \n",
    "        else:\n",
    "            # if node has 2 children\n",
    "            # find its successor\n",
    "            parent = node\n",
    "            successor = node.right\n",
    "            while successor.left:\n",
    "                parent = successor\n",
    "                successor = successor.left\n",
    "            # replace node data by its successor data\n",
    "            node.data = successor.data\n",
    "            # fix successor parent's child\n",
    "            if parent.left == successor:\n",
    "                parent.left = successor.right\n",
    "            else:\n",
    "                parent.right = successor.right\n",
    "\n",
    "    \n",
    "    def print_tree(self):\n",
    "        if self.left:\n",
    "            self.left.print_tree()\n",
    "        print(self.data, sep=\" \")\n",
    "        if self.right:\n",
    "            self.right.print_tree()"
   ]
  },
  {
   "cell_type": "code",
   "execution_count": 160,
   "metadata": {
    "collapsed": true
   },
   "outputs": [],
   "source": [
    "root = Node(8)"
   ]
  },
  {
   "cell_type": "code",
   "execution_count": 161,
   "metadata": {
    "collapsed": true
   },
   "outputs": [],
   "source": [
    "root.insert(3)\n",
    "root.insert(10)\n",
    "root.insert(1)"
   ]
  },
  {
   "cell_type": "markdown",
   "metadata": {},
   "source": [
    "#### After this node will look like this \n",
    "\n",
    "<p>This is what happens when we add the second node (3):</p>\n",
    "<ul>\n",
    "<li>1- root node&#8217;s method insert() is called with data = 3.</li>\n",
    "<li>2- 3 is less than 8 and left child is None so we attach the new node to it.\n",
    "</ul>\n",
    "<p>This is what happens when we add the third node (10):</p>\n",
    "<ul>\n",
    "<li>1- root node&#8217;s method insert() is called with data = 10.</li>\n",
    "<li>2- 10 is greater than 8 and right child is None so we attach the new node to it.\n",
    "</ul>\n",
    "<p>This is what happens when we add the fourth node (1):</p>\n",
    "<ul>\n",
    "<li>1- root node&#8217;s method insert() is called with data = 1.</li>\n",
    "<li>2- 1 is less than 8 so the root&#8217;s left child (3) insert() method is called with data = 1. Note how we call the method on a subtree.\n",
    "<li>3- 1 is less than 3 and left child is None so we attach the new node to it.\n",
    "</ul>\n",
    "<p>This is how the tree looks like now:</p>\n",
    "<img src=\"http://www.laurentluce.com/images/blog/bst/bst_insert.png\" />"
   ]
  },
  {
   "cell_type": "code",
   "execution_count": 162,
   "metadata": {
    "collapsed": true
   },
   "outputs": [],
   "source": [
    "root.insert(6)\n",
    "root.insert(4)\n",
    "root.insert(14)\n",
    "root.insert(13)\n",
    "root.insert(7)"
   ]
  },
  {
   "cell_type": "markdown",
   "metadata": {},
   "source": [
    "<img src=\"http://www.laurentluce.com/images/blog/bst/bst.png\" />"
   ]
  },
  {
   "cell_type": "code",
   "execution_count": 163,
   "metadata": {
    "collapsed": true
   },
   "outputs": [],
   "source": [
    "node, parent = root.lookup(6)"
   ]
  },
  {
   "cell_type": "code",
   "execution_count": 164,
   "metadata": {},
   "outputs": [
    {
     "data": {
      "text/plain": [
       "6"
      ]
     },
     "execution_count": 164,
     "metadata": {},
     "output_type": "execute_result"
    }
   ],
   "source": [
    "node.data"
   ]
  },
  {
   "cell_type": "code",
   "execution_count": 165,
   "metadata": {},
   "outputs": [
    {
     "data": {
      "text/plain": [
       "3"
      ]
     },
     "execution_count": 165,
     "metadata": {},
     "output_type": "execute_result"
    }
   ],
   "source": [
    "parent.data"
   ]
  },
  {
   "cell_type": "markdown",
   "metadata": {},
   "source": [
    "<p>This is what happens when lookup() is called:</p>\n",
    "<ul>\n",
    "<li>1- lookup() is called with data = 6, and default value parent = None.</li>\n",
    "<li>2- data = 6 is less than root&#8217;s data which is 8.</li>\n",
    "<li>3- root&#8217;s left child lookup() method is called with data = 6, parent = current node. Notice how we call lookup() on a subtree.</li>\n",
    "<li>4- data = 6 is greater than node&#8217;s data which is now 3.</li>\n",
    "<li>5- node&#8217;s right child lookup() method is called with data = 6 and parent = current node</li>\n",
    "<li>6- node&#8217;s data is equal to 6 so we return it and its parent which is node 3.\n",
    "</ul>\n",
    "\n",
    "<img src=\"http://www.laurentluce.com/images/blog/bst/bst_lookup.png\"/>"
   ]
  },
  {
   "cell_type": "code",
   "execution_count": 166,
   "metadata": {},
   "outputs": [
    {
     "name": "stdout",
     "output_type": "stream",
     "text": [
      "1\n",
      "3\n",
      "4\n",
      "6\n",
      "7\n",
      "8\n",
      "10\n",
      "13\n",
      "14\n"
     ]
    }
   ],
   "source": [
    "root.print_tree()"
   ]
  },
  {
   "cell_type": "code",
   "execution_count": 167,
   "metadata": {},
   "outputs": [],
   "source": [
    "root.delete(7)"
   ]
  },
  {
   "cell_type": "code",
   "execution_count": 168,
   "metadata": {},
   "outputs": [
    {
     "name": "stdout",
     "output_type": "stream",
     "text": [
      "1\n",
      "3\n",
      "4\n",
      "6\n",
      "8\n",
      "10\n",
      "13\n",
      "14\n"
     ]
    }
   ],
   "source": [
    "root.print_tree()"
   ]
  },
  {
   "cell_type": "code",
   "execution_count": 169,
   "metadata": {},
   "outputs": [
    {
     "data": {
      "text/plain": [
       "(None, None)"
      ]
     },
     "execution_count": 169,
     "metadata": {},
     "output_type": "execute_result"
    }
   ],
   "source": [
    "root.lookup(90)"
   ]
  },
  {
   "cell_type": "code",
   "execution_count": 170,
   "metadata": {},
   "outputs": [
    {
     "name": "stdout",
     "output_type": "stream",
     "text": [
      "Element not found\n"
     ]
    }
   ],
   "source": [
    "root.delete(90)"
   ]
  },
  {
   "cell_type": "markdown",
   "metadata": {},
   "source": [
    "## Adjacency Matrix, with weighted or unweighted edges"
   ]
  },
  {
   "cell_type": "code",
   "execution_count": 187,
   "metadata": {},
   "outputs": [
    {
     "name": "stdout",
     "output_type": "stream",
     "text": [
      "A 0100100000 \n",
      "B 1000010000 \n",
      "C 0000001000 \n",
      "D 0000100100 \n",
      "E 1001000100 \n",
      "F 0100001011 \n",
      "G 0010010001 \n",
      "H 0001100010 \n",
      "I 0000010100 \n",
      "J 0000011000 \n"
     ]
    }
   ],
   "source": [
    "# implementation of an undirected graph using Adjacency Matrix, with weighted or unweighted edges\n",
    "class Vertex:\n",
    "    def __init__(self, n):\n",
    "        self.name = n\n",
    "\n",
    "class Graph:\n",
    "    vertices = {}\n",
    "    edges = []\n",
    "    edge_indices = {}\n",
    "\n",
    "    def add_vertex(self, vertex):\n",
    "        if isinstance(vertex, Vertex) and vertex.name not in self.vertices:\n",
    "            self.vertices[vertex.name] = vertex\n",
    "            for row in self.edges:\n",
    "                row.append(0)\n",
    "            self.edges.append([0] * (len(self.edges)+1))\n",
    "            self.edge_indices[vertex.name] = len(self.edge_indices)\n",
    "            return True\n",
    "        else:\n",
    "            return False\n",
    "\n",
    "    def add_edge(self, u, v, weight=1):\n",
    "        if u in self.vertices and v in self.vertices:\n",
    "            self.edges[self.edge_indices[u]][self.edge_indices[v]] = weight\n",
    "            self.edges[self.edge_indices[v]][self.edge_indices[u]] = weight\n",
    "            return True\n",
    "        else:\n",
    "            return False\n",
    "\n",
    "    def print_graph(self):\n",
    "        for v, i in sorted(self.edge_indices.items()):\n",
    "            print(v + ' ', end='')\n",
    "            for j in range(len(self.edges)):\n",
    "                print(self.edges[i][j], end='')\n",
    "            print(' ')    \n",
    "\n",
    "g = Graph()\n",
    "# print(str(len(g.vertices)))\n",
    "a = Vertex('A')\n",
    "g.add_vertex(a)\n",
    "g.add_vertex(Vertex('B'))\n",
    "for i in range(ord('A'), ord('K')):\n",
    "    g.add_vertex(Vertex(chr(i)))\n",
    "\n",
    "edges = ['AB', 'AE', 'BF', 'CG', 'DE', 'DH', 'EH', 'FG', 'FI', 'FJ', 'GJ', 'HI']\n",
    "for edge in edges:\n",
    "    g.add_edge(edge[:1], edge[1:])\n",
    "\n",
    "g.print_graph()"
   ]
  },
  {
   "cell_type": "code",
   "execution_count": null,
   "metadata": {},
   "outputs": [],
   "source": []
  },
  {
   "cell_type": "code",
   "execution_count": 177,
   "metadata": {
    "collapsed": true
   },
   "outputs": [],
   "source": []
  },
  {
   "cell_type": "code",
   "execution_count": 180,
   "metadata": {},
   "outputs": [],
   "source": []
  },
  {
   "cell_type": "code",
   "execution_count": 181,
   "metadata": {
    "collapsed": true
   },
   "outputs": [],
   "source": []
  },
  {
   "cell_type": "code",
   "execution_count": 185,
   "metadata": {
    "collapsed": true
   },
   "outputs": [],
   "source": []
  },
  {
   "cell_type": "code",
   "execution_count": null,
   "metadata": {},
   "outputs": [],
   "source": []
  },
  {
   "cell_type": "code",
   "execution_count": null,
   "metadata": {
    "collapsed": true
   },
   "outputs": [],
   "source": []
  }
 ],
 "metadata": {
  "kernelspec": {
   "display_name": "Python 3",
   "language": "python",
   "name": "python3"
  },
  "language_info": {
   "codemirror_mode": {
    "name": "ipython",
    "version": 3
   },
   "file_extension": ".py",
   "mimetype": "text/x-python",
   "name": "python",
   "nbconvert_exporter": "python",
   "pygments_lexer": "ipython3",
   "version": "3.6.0"
  }
 },
 "nbformat": 4,
 "nbformat_minor": 2
}
